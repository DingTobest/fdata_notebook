{
 "cells": [
  {
   "cell_type": "markdown",
   "metadata": {},
   "source": [
    "# 分析周内不同时间的涨跌幅与上涨概率\n",
    "由于使用两个账户进行定投，定投周期为每周，一个在周一进行定投，另一个在周四进行定投，昨天定投扣款后，总感觉周一定投时上涨的概率比周四上涨的概率大，于是有了本篇分析，分析的结果如下：\n",
    "1. 从历史角度来看（2007年至今），有且仅有周四的涨跌幅为负数，且有且仅有周四上涨概率小于50%\n",
    "2. 统计2018年年初至今的数据，周一依旧比周四涨幅与上涨概率大\n",
    "3. 2018年至今，周三的行情比周四还差，无论是涨跌幅还是概率都差不少"
   ]
  },
  {
   "cell_type": "code",
   "execution_count": 1,
   "metadata": {
    "collapsed": true
   },
   "outputs": [],
   "source": [
    "import pandas as pd\n",
    "import matplotlib.pyplot as plt\n",
    "import numpy as np\n",
    "import  jqdatasdk\n",
    "import talib"
   ]
  },
  {
   "cell_type": "code",
   "execution_count": 3,
   "metadata": {},
   "outputs": [
    {
     "name": "stdout",
     "output_type": "stream",
     "text": [
      "auth success\n"
     ]
    }
   ],
   "source": [
    "jqdatasdk.auth(tel, pwd)"
   ]
  },
  {
   "cell_type": "markdown",
   "metadata": {},
   "source": [
    "# 选取历史（2007年1月1日到2018年11月19日）数据进行计算"
   ]
  },
  {
   "cell_type": "code",
   "execution_count": 121,
   "metadata": {
    "collapsed": true
   },
   "outputs": [],
   "source": [
    "hs300_df = jqdatasdk.get_price('000300.XSHG', start_date='2007-01-01', end_date='2018-11-30', frequency='daily', fields=['open', 'close', 'high', 'low']) "
   ]
  },
  {
   "cell_type": "code",
   "execution_count": 122,
   "metadata": {},
   "outputs": [
    {
     "data": {
      "text/html": [
       "<div>\n",
       "<style scoped>\n",
       "    .dataframe tbody tr th:only-of-type {\n",
       "        vertical-align: middle;\n",
       "    }\n",
       "\n",
       "    .dataframe tbody tr th {\n",
       "        vertical-align: top;\n",
       "    }\n",
       "\n",
       "    .dataframe thead th {\n",
       "        text-align: right;\n",
       "    }\n",
       "</style>\n",
       "<table border=\"1\" class=\"dataframe\">\n",
       "  <thead>\n",
       "    <tr style=\"text-align: right;\">\n",
       "      <th></th>\n",
       "      <th>open</th>\n",
       "      <th>close</th>\n",
       "      <th>high</th>\n",
       "      <th>low</th>\n",
       "    </tr>\n",
       "  </thead>\n",
       "  <tbody>\n",
       "    <tr>\n",
       "      <th>2007-01-04</th>\n",
       "      <td>2073.250</td>\n",
       "      <td>2067.092</td>\n",
       "      <td>2139.494</td>\n",
       "      <td>2054.242</td>\n",
       "    </tr>\n",
       "    <tr>\n",
       "      <th>2007-01-05</th>\n",
       "      <td>2051.152</td>\n",
       "      <td>2072.883</td>\n",
       "      <td>2083.402</td>\n",
       "      <td>2030.762</td>\n",
       "    </tr>\n",
       "    <tr>\n",
       "      <th>2007-01-08</th>\n",
       "      <td>2072.005</td>\n",
       "      <td>2131.556</td>\n",
       "      <td>2131.737</td>\n",
       "      <td>2071.721</td>\n",
       "    </tr>\n",
       "    <tr>\n",
       "      <th>2007-01-09</th>\n",
       "      <td>2137.485</td>\n",
       "      <td>2200.086</td>\n",
       "      <td>2201.360</td>\n",
       "      <td>2128.064</td>\n",
       "    </tr>\n",
       "    <tr>\n",
       "      <th>2007-01-10</th>\n",
       "      <td>2210.757</td>\n",
       "      <td>2255.966</td>\n",
       "      <td>2255.966</td>\n",
       "      <td>2194.770</td>\n",
       "    </tr>\n",
       "  </tbody>\n",
       "</table>\n",
       "</div>"
      ],
      "text/plain": [
       "                open     close      high       low\n",
       "2007-01-04  2073.250  2067.092  2139.494  2054.242\n",
       "2007-01-05  2051.152  2072.883  2083.402  2030.762\n",
       "2007-01-08  2072.005  2131.556  2131.737  2071.721\n",
       "2007-01-09  2137.485  2200.086  2201.360  2128.064\n",
       "2007-01-10  2210.757  2255.966  2255.966  2194.770"
      ]
     },
     "execution_count": 122,
     "metadata": {},
     "output_type": "execute_result"
    }
   ],
   "source": [
    "hs300_df.head()"
   ]
  },
  {
   "cell_type": "code",
   "execution_count": 123,
   "metadata": {},
   "outputs": [],
   "source": [
    "hs300_df['date'] = hs300_df.index"
   ]
  },
  {
   "cell_type": "code",
   "execution_count": 124,
   "metadata": {
    "collapsed": true
   },
   "outputs": [],
   "source": [
    "import time,datetime\n",
    "\n",
    "# 计算当天为周几\n",
    "def get_week_day(date):\n",
    "  week_day_dict = {\n",
    "    0 : '星期一',\n",
    "    1 : '星期二',\n",
    "    2 : '星期三',\n",
    "    3 : '星期四',\n",
    "    4 : '星期五',\n",
    "    5 : '星期六',\n",
    "    6 : '星期天',\n",
    "  }\n",
    "  day = date.weekday()\n",
    "  return week_day_dict[day]"
   ]
  },
  {
   "cell_type": "code",
   "execution_count": 125,
   "metadata": {},
   "outputs": [],
   "source": [
    "hs300_df['weekday'] = hs300_df['date'].apply(lambda x : get_week_day(x))"
   ]
  },
  {
   "cell_type": "code",
   "execution_count": 126,
   "metadata": {},
   "outputs": [
    {
     "data": {
      "text/html": [
       "<div>\n",
       "<style scoped>\n",
       "    .dataframe tbody tr th:only-of-type {\n",
       "        vertical-align: middle;\n",
       "    }\n",
       "\n",
       "    .dataframe tbody tr th {\n",
       "        vertical-align: top;\n",
       "    }\n",
       "\n",
       "    .dataframe thead th {\n",
       "        text-align: right;\n",
       "    }\n",
       "</style>\n",
       "<table border=\"1\" class=\"dataframe\">\n",
       "  <thead>\n",
       "    <tr style=\"text-align: right;\">\n",
       "      <th></th>\n",
       "      <th>open</th>\n",
       "      <th>close</th>\n",
       "      <th>high</th>\n",
       "      <th>low</th>\n",
       "      <th>date</th>\n",
       "      <th>weekday</th>\n",
       "    </tr>\n",
       "  </thead>\n",
       "  <tbody>\n",
       "    <tr>\n",
       "      <th>2007-01-04</th>\n",
       "      <td>2073.250</td>\n",
       "      <td>2067.092</td>\n",
       "      <td>2139.494</td>\n",
       "      <td>2054.242</td>\n",
       "      <td>2007-01-04</td>\n",
       "      <td>星期四</td>\n",
       "    </tr>\n",
       "    <tr>\n",
       "      <th>2007-01-05</th>\n",
       "      <td>2051.152</td>\n",
       "      <td>2072.883</td>\n",
       "      <td>2083.402</td>\n",
       "      <td>2030.762</td>\n",
       "      <td>2007-01-05</td>\n",
       "      <td>星期五</td>\n",
       "    </tr>\n",
       "    <tr>\n",
       "      <th>2007-01-08</th>\n",
       "      <td>2072.005</td>\n",
       "      <td>2131.556</td>\n",
       "      <td>2131.737</td>\n",
       "      <td>2071.721</td>\n",
       "      <td>2007-01-08</td>\n",
       "      <td>星期一</td>\n",
       "    </tr>\n",
       "    <tr>\n",
       "      <th>2007-01-09</th>\n",
       "      <td>2137.485</td>\n",
       "      <td>2200.086</td>\n",
       "      <td>2201.360</td>\n",
       "      <td>2128.064</td>\n",
       "      <td>2007-01-09</td>\n",
       "      <td>星期二</td>\n",
       "    </tr>\n",
       "    <tr>\n",
       "      <th>2007-01-10</th>\n",
       "      <td>2210.757</td>\n",
       "      <td>2255.966</td>\n",
       "      <td>2255.966</td>\n",
       "      <td>2194.770</td>\n",
       "      <td>2007-01-10</td>\n",
       "      <td>星期三</td>\n",
       "    </tr>\n",
       "  </tbody>\n",
       "</table>\n",
       "</div>"
      ],
      "text/plain": [
       "                open     close      high       low       date weekday\n",
       "2007-01-04  2073.250  2067.092  2139.494  2054.242 2007-01-04     星期四\n",
       "2007-01-05  2051.152  2072.883  2083.402  2030.762 2007-01-05     星期五\n",
       "2007-01-08  2072.005  2131.556  2131.737  2071.721 2007-01-08     星期一\n",
       "2007-01-09  2137.485  2200.086  2201.360  2128.064 2007-01-09     星期二\n",
       "2007-01-10  2210.757  2255.966  2255.966  2194.770 2007-01-10     星期三"
      ]
     },
     "execution_count": 126,
     "metadata": {},
     "output_type": "execute_result"
    }
   ],
   "source": [
    "hs300_df.head()"
   ]
  },
  {
   "cell_type": "code",
   "execution_count": 127,
   "metadata": {
    "collapsed": true
   },
   "outputs": [],
   "source": [
    "# 计算当日的收益率\n",
    "hs300_df['dr%'] = (hs300_df['close'] - hs300_df['open']) / hs300_df['open'] * 100"
   ]
  },
  {
   "cell_type": "code",
   "execution_count": 128,
   "metadata": {},
   "outputs": [
    {
     "data": {
      "text/html": [
       "<div>\n",
       "<style scoped>\n",
       "    .dataframe tbody tr th:only-of-type {\n",
       "        vertical-align: middle;\n",
       "    }\n",
       "\n",
       "    .dataframe tbody tr th {\n",
       "        vertical-align: top;\n",
       "    }\n",
       "\n",
       "    .dataframe thead th {\n",
       "        text-align: right;\n",
       "    }\n",
       "</style>\n",
       "<table border=\"1\" class=\"dataframe\">\n",
       "  <thead>\n",
       "    <tr style=\"text-align: right;\">\n",
       "      <th></th>\n",
       "      <th>open</th>\n",
       "      <th>close</th>\n",
       "      <th>high</th>\n",
       "      <th>low</th>\n",
       "      <th>date</th>\n",
       "      <th>weekday</th>\n",
       "      <th>dr%</th>\n",
       "    </tr>\n",
       "  </thead>\n",
       "  <tbody>\n",
       "    <tr>\n",
       "      <th>2007-01-04</th>\n",
       "      <td>2073.250</td>\n",
       "      <td>2067.092</td>\n",
       "      <td>2139.494</td>\n",
       "      <td>2054.242</td>\n",
       "      <td>2007-01-04</td>\n",
       "      <td>星期四</td>\n",
       "      <td>-0.297022</td>\n",
       "    </tr>\n",
       "    <tr>\n",
       "      <th>2007-01-05</th>\n",
       "      <td>2051.152</td>\n",
       "      <td>2072.883</td>\n",
       "      <td>2083.402</td>\n",
       "      <td>2030.762</td>\n",
       "      <td>2007-01-05</td>\n",
       "      <td>星期五</td>\n",
       "      <td>1.059453</td>\n",
       "    </tr>\n",
       "    <tr>\n",
       "      <th>2007-01-08</th>\n",
       "      <td>2072.005</td>\n",
       "      <td>2131.556</td>\n",
       "      <td>2131.737</td>\n",
       "      <td>2071.721</td>\n",
       "      <td>2007-01-08</td>\n",
       "      <td>星期一</td>\n",
       "      <td>2.874076</td>\n",
       "    </tr>\n",
       "    <tr>\n",
       "      <th>2007-01-09</th>\n",
       "      <td>2137.485</td>\n",
       "      <td>2200.086</td>\n",
       "      <td>2201.360</td>\n",
       "      <td>2128.064</td>\n",
       "      <td>2007-01-09</td>\n",
       "      <td>星期二</td>\n",
       "      <td>2.928722</td>\n",
       "    </tr>\n",
       "    <tr>\n",
       "      <th>2007-01-10</th>\n",
       "      <td>2210.757</td>\n",
       "      <td>2255.966</td>\n",
       "      <td>2255.966</td>\n",
       "      <td>2194.770</td>\n",
       "      <td>2007-01-10</td>\n",
       "      <td>星期三</td>\n",
       "      <td>2.044956</td>\n",
       "    </tr>\n",
       "  </tbody>\n",
       "</table>\n",
       "</div>"
      ],
      "text/plain": [
       "                open     close      high       low       date weekday  \\\n",
       "2007-01-04  2073.250  2067.092  2139.494  2054.242 2007-01-04     星期四   \n",
       "2007-01-05  2051.152  2072.883  2083.402  2030.762 2007-01-05     星期五   \n",
       "2007-01-08  2072.005  2131.556  2131.737  2071.721 2007-01-08     星期一   \n",
       "2007-01-09  2137.485  2200.086  2201.360  2128.064 2007-01-09     星期二   \n",
       "2007-01-10  2210.757  2255.966  2255.966  2194.770 2007-01-10     星期三   \n",
       "\n",
       "                 dr%  \n",
       "2007-01-04 -0.297022  \n",
       "2007-01-05  1.059453  \n",
       "2007-01-08  2.874076  \n",
       "2007-01-09  2.928722  \n",
       "2007-01-10  2.044956  "
      ]
     },
     "execution_count": 128,
     "metadata": {},
     "output_type": "execute_result"
    }
   ],
   "source": [
    "hs300_df.head()"
   ]
  },
  {
   "cell_type": "code",
   "execution_count": 129,
   "metadata": {},
   "outputs": [],
   "source": [
    "weekday_group = hs300_df.groupby('weekday')"
   ]
  },
  {
   "cell_type": "code",
   "execution_count": 130,
   "metadata": {},
   "outputs": [
    {
     "data": {
      "text/plain": [
       "weekday\n",
       "星期一    0.151212\n",
       "星期三    0.196211\n",
       "星期二    0.105253\n",
       "星期五    0.191623\n",
       "星期四   -0.045323\n",
       "Name: dr%, dtype: float64"
      ]
     },
     "execution_count": 130,
     "metadata": {},
     "output_type": "execute_result"
    }
   ],
   "source": [
    "# 计算周一到周五的每日平均涨跌幅\n",
    "weekday_group['dr%'].mean()"
   ]
  },
  {
   "cell_type": "code",
   "execution_count": 131,
   "metadata": {},
   "outputs": [
    {
     "data": {
      "text/plain": [
       "weekday\n",
       "星期一    0.570922\n",
       "星期三    0.524618\n",
       "星期二    0.566781\n",
       "星期五    0.561313\n",
       "星期四    0.469983\n",
       "Name: dr%, dtype: float64"
      ]
     },
     "execution_count": 131,
     "metadata": {},
     "output_type": "execute_result"
    }
   ],
   "source": [
    "# 计算周一到周五的每日的上涨概率\n",
    "weekday_group['dr%'].agg(lambda x : len(x[x > 0]) / len(x))"
   ]
  },
  {
   "cell_type": "markdown",
   "metadata": {},
   "source": [
    "# 选取今年（2018年1月1日到2018年11月30日）的数据进行计算"
   ]
  },
  {
   "cell_type": "code",
   "execution_count": 132,
   "metadata": {
    "collapsed": true
   },
   "outputs": [],
   "source": [
    "hs300_df = jqdatasdk.get_price('000300.XSHG', start_date='2018-01-01', end_date='2018-11-30', frequency='daily', fields=['open', 'close', 'high', 'low']) "
   ]
  },
  {
   "cell_type": "code",
   "execution_count": 133,
   "metadata": {
    "collapsed": true
   },
   "outputs": [],
   "source": [
    "hs300_df['date'] = hs300_df.index\n",
    "hs300_df['weekday'] = hs300_df['date'].apply(lambda x : get_week_day(x))\n",
    "hs300_df['dr%'] = (hs300_df['close'] - hs300_df['open']) / hs300_df['open'] * 100\n",
    "weekday_group = hs300_df.groupby('weekday')"
   ]
  },
  {
   "cell_type": "code",
   "execution_count": 134,
   "metadata": {},
   "outputs": [
    {
     "data": {
      "text/plain": [
       "weekday\n",
       "星期一    0.105922\n",
       "星期三   -0.335314\n",
       "星期二    0.227191\n",
       "星期五    0.161232\n",
       "星期四   -0.060633\n",
       "Name: dr%, dtype: float64"
      ]
     },
     "execution_count": 134,
     "metadata": {},
     "output_type": "execute_result"
    }
   ],
   "source": [
    "# 计算周一到周五的每日平均涨跌幅\n",
    "weekday_group['dr%'].mean()"
   ]
  },
  {
   "cell_type": "code",
   "execution_count": 135,
   "metadata": {},
   "outputs": [
    {
     "data": {
      "text/plain": [
       "weekday\n",
       "星期一    0.547619\n",
       "星期三    0.347826\n",
       "星期二    0.555556\n",
       "星期五    0.600000\n",
       "星期四    0.400000\n",
       "Name: dr%, dtype: float64"
      ]
     },
     "execution_count": 135,
     "metadata": {},
     "output_type": "execute_result"
    }
   ],
   "source": [
    "# 计算周一到周五的每日的上涨概率\n",
    "weekday_group['dr%'].agg(lambda x : len(x[x > 0]) / len(x))"
   ]
  }
 ],
 "metadata": {
  "kernelspec": {
   "display_name": "Python 3",
   "language": "python",
   "name": "python3"
  },
  "language_info": {
   "codemirror_mode": {
    "name": "ipython",
    "version": 3
   },
   "file_extension": ".py",
   "mimetype": "text/x-python",
   "name": "python",
   "nbconvert_exporter": "python",
   "pygments_lexer": "ipython3",
   "version": "3.6.1"
  }
 },
 "nbformat": 4,
 "nbformat_minor": 2
}
